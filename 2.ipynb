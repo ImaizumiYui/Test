{
 "cells": [
  {
   "cell_type": "markdown",
   "id": "0357119c",
   "metadata": {},
   "source": [
    "### Question 1: Understanding Speech-to-Text (STT)"
   ]
  },
  {
   "cell_type": "markdown",
   "id": "fdd2a871-b4cd-495d-9a15-9973fde2d579",
   "metadata": {},
   "source": [
    "#### a. What is speech-to-text technology, and what are its applications?\n",
    "\n",
    "Speech-to-Text technology is a computational method that translates human spoken language into written text. It captures and processes the audio of spoken words and converts them into a format that machines or humans can read. Applications of STT include transcription services, voice assistants, real-time subtitling, voice command recognition, and assistive technologies for differently-abled individuals.\n",
    "\n"
   ]
  },
  {
   "cell_type": "markdown",
   "id": "577e7166-c713-4852-85af-7c200f888c35",
   "metadata": {},
   "source": [
    "#### b. The components of a typical STT system\n",
    "\n",
    "A typical STT system functions through an integrated approach of several components:Audio Input,Pre-processing,Feature Extraction,Acoustic Model,Language Model,Decoder.\n",
    "\n",
    "Initially, microphones are employed to capture raw audio, which is termed as the \"Audio Input\". This captured audio then undergoes a \"Pre-processing\" phase, where it's amplified and filtered to boost its clarity. The system then engages in \"Feature Extraction\", pinpointing relevant characteristics from the audio signal. Once these features are extracted, an \"Acoustic Model\" delves into interpreting the phonetic content of the audio. Parallelly, the \"Language Model\" utilizes linguistic knowledge to predict word sequences, aiming for a more precise transcription. The culmination of this process is overseen by the \"Decoder\", which transforms the recognized phonemes into a comprehensible textual format.\n",
    "\n",
    "refer:Zhang, X. (2021). [Natural language understanding and generation technology]. Baidu Wenku. https://wenku.baidu.com/view/08e40522bd23482fb4daa58da0116c175f0e1ee4.html"
   ]
  },
  {
   "cell_type": "markdown",
   "id": "a8ca4e5d-e48f-4569-b6e9-7105bd17f34a",
   "metadata": {},
   "source": [
    "#### c. Different STT methods and algorithms (e.g., Hidden Markov Models, Deep Learning).\n",
    "\n",
    "\n",
    "Over the years, several methods and algorithms have been developed for STT. Some of the prominent ones include:\n",
    "Hidden Markov Models (HMMs): Used to model sequences and time series data.\n",
    "Neural Networks: Especially deep learning architectures like RNNs, CNNs, and Transformers, have revolutionized STT by capturing intricate patterns in audio data.\n",
    "Dynamic Time Warping (DTW): An older method for comparing different spoken word sequences."
   ]
  },
  {
   "cell_type": "markdown",
   "id": "47a35d05-58f5-4105-850f-90f73787e153",
   "metadata": {},
   "source": [
    "#### d. Current challenges and developments in the field of STT technology.\n",
    "\n",
    "\n",
    "Challenges in STT technology include handling accents and dialects, noise interference, and real-time processing demands. Additionally, capturing emotional nuances and intonations remains a complex task. Recent developments involve using more advanced deep learning techniques, leveraging larger datasets for training, and incorporating multi-modal inputs to enhance accuracy.Future trends include deeper neural networks, augmented learning, cross-language model improvement, and multimodal fusion. "
   ]
  },
  {
   "cell_type": "markdown",
   "id": "8305752b-6485-40b8-9949-eaf8a017a637",
   "metadata": {},
   "source": [
    "### Question 2: Implementing a Simple STT System "
   ]
  },
  {
   "cell_type": "code",
   "execution_count": 1,
   "id": "3d4f33a9-0181-445f-b2c6-0d2799be3914",
   "metadata": {},
   "outputs": [
    {
     "name": "stdout",
     "output_type": "stream",
     "text": [
      "Defaulting to user installation because normal site-packages is not writeable\n",
      "Requirement already satisfied: gTTS in d:\\anaconda3\\lib\\site-packages (2.4.0)\n",
      "Requirement already satisfied: requests<3,>=2.27 in d:\\anaconda3\\lib\\site-packages (from gTTS) (2.31.0)\n",
      "Requirement already satisfied: click<8.2,>=7.1 in d:\\anaconda3\\lib\\site-packages (from gTTS) (8.0.4)\n",
      "Requirement already satisfied: colorama in d:\\anaconda3\\lib\\site-packages (from click<8.2,>=7.1->gTTS) (0.4.6)\n",
      "Requirement already satisfied: charset-normalizer<4,>=2 in d:\\anaconda3\\lib\\site-packages (from requests<3,>=2.27->gTTS) (2.0.4)\n",
      "Requirement already satisfied: idna<4,>=2.5 in d:\\anaconda3\\lib\\site-packages (from requests<3,>=2.27->gTTS) (2.10)\n",
      "Requirement already satisfied: urllib3<3,>=1.21.1 in d:\\anaconda3\\lib\\site-packages (from requests<3,>=2.27->gTTS) (1.26.16)\n",
      "Requirement already satisfied: certifi>=2017.4.17 in d:\\anaconda3\\lib\\site-packages (from requests<3,>=2.27->gTTS) (2023.7.22)\n",
      "Note: you may need to restart the kernel to use updated packages.\n"
     ]
    }
   ],
   "source": [
    "pip install gTTS"
   ]
  },
  {
   "cell_type": "code",
   "execution_count": 2,
   "id": "ae155f42-a5a1-4cf7-ab72-c63722ca2aaa",
   "metadata": {
    "tags": []
   },
   "outputs": [],
   "source": [
    "from gtts import gTTS # from library gtts, import class GTTS\n",
    "from IPython.display import Audio"
   ]
  },
  {
   "cell_type": "code",
   "execution_count": 3,
   "id": "8e4dad88-8b3d-41b8-9024-4ea2541c8f4e",
   "metadata": {
    "tags": []
   },
   "outputs": [
    {
     "data": {
      "text/html": [
       "\n",
       "                <audio  controls=\"controls\" autoplay=\"autoplay\">\n",
       "                    <source src=\"data:audio/wav;base64,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\" type=\"audio/wav\" />\n",
       "                    Your browser does not support the audio element.\n",
       "                </audio>\n",
       "              "
      ],
      "text/plain": [
       "<IPython.lib.display.Audio object>"
      ]
     },
     "execution_count": 3,
     "metadata": {},
     "output_type": "execute_result"
    }
   ],
   "source": [
    "tts = gTTS(\"Welcome to NLP\")\n",
    "tts.save('WelcometoNLP.wav')\n",
    "sound_file = 'WelcometoNLP.wav'\n",
    "Audio(sound_file, autoplay=True)"
   ]
  },
  {
   "cell_type": "code",
   "execution_count": 4,
   "id": "044e08b5-af17-485c-b09b-e5d65000554a",
   "metadata": {
    "tags": []
   },
   "outputs": [
    {
     "data": {
      "text/html": [
       "\n",
       "                <audio  controls=\"controls\" autoplay=\"autoplay\">\n",
       "                    <source src=\"data:audio/mpeg;base64,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\" type=\"audio/mpeg\" />\n",
       "                    Your browser does not support the audio element.\n",
       "                </audio>\n",
       "              "
      ],
      "text/plain": [
       "<IPython.lib.display.Audio object>"
      ]
     },
     "execution_count": 4,
     "metadata": {},
     "output_type": "execute_result"
    }
   ],
   "source": [
    "from gtts import gTTS\n",
    "tts = gTTS('hello', lang='en', tld='com.au')\n",
    "tts.save('hello.mp3')\n",
    "sound_file = 'hello.mp3'\n",
    "Audio(sound_file, autoplay=True)"
   ]
  },
  {
   "cell_type": "code",
   "execution_count": 5,
   "id": "21d97966-b774-4e2c-b335-ada84e975132",
   "metadata": {
    "tags": []
   },
   "outputs": [
    {
     "name": "stdout",
     "output_type": "stream",
     "text": [
      "Defaulting to user installation because normal site-packages is not writeable\n",
      "Requirement already satisfied: SpeechRecognition in d:\\anaconda3\\lib\\site-packages (3.10.0)\n",
      "Requirement already satisfied: pyaudio in d:\\anaconda3\\lib\\site-packages (0.2.13)\n",
      "Requirement already satisfied: pywin32 in d:\\anaconda3\\lib\\site-packages (305.1)\n",
      "Requirement already satisfied: requests>=2.26.0 in d:\\anaconda3\\lib\\site-packages (from SpeechRecognition) (2.31.0)\n",
      "Requirement already satisfied: charset-normalizer<4,>=2 in d:\\anaconda3\\lib\\site-packages (from requests>=2.26.0->SpeechRecognition) (2.0.4)\n",
      "Requirement already satisfied: idna<4,>=2.5 in d:\\anaconda3\\lib\\site-packages (from requests>=2.26.0->SpeechRecognition) (2.10)\n",
      "Requirement already satisfied: urllib3<3,>=1.21.1 in d:\\anaconda3\\lib\\site-packages (from requests>=2.26.0->SpeechRecognition) (1.26.16)\n",
      "Requirement already satisfied: certifi>=2017.4.17 in d:\\anaconda3\\lib\\site-packages (from requests>=2.26.0->SpeechRecognition) (2023.7.22)\n",
      "Note: you may need to restart the kernel to use updated packages.\n"
     ]
    }
   ],
   "source": [
    "pip install SpeechRecognition pyaudio pywin32"
   ]
  },
  {
   "cell_type": "code",
   "execution_count": 6,
   "id": "ab1a5407-9f90-4d50-959e-2593f450a822",
   "metadata": {
    "tags": []
   },
   "outputs": [],
   "source": [
    "import speech_recognition as sr"
   ]
  },
  {
   "cell_type": "code",
   "execution_count": 7,
   "id": "7b5dc568-6154-4a77-859a-c9b2aee1ea5b",
   "metadata": {
    "tags": []
   },
   "outputs": [],
   "source": [
    "recognizer = sr.Recognizer()"
   ]
  },
  {
   "cell_type": "code",
   "execution_count": 8,
   "id": "2d9aa758-4a05-4c05-b87f-cd0969940ffc",
   "metadata": {
    "tags": []
   },
   "outputs": [
    {
     "name": "stdout",
     "output_type": "stream",
     "text": [
      "Please speak something...\n",
      "Recognized text: hello hello good morning\n"
     ]
    }
   ],
   "source": [
    "with sr.Microphone() as source:\n",
    "    print(\"Please speak something...\")\n",
    "    recognizer.adjust_for_ambient_noise(source)  # Adjust for ambient noise\n",
    "\n",
    "    # Capture audio from the microphone\n",
    "    audio = recognizer.listen(source)\n",
    "\n",
    "try:\n",
    "    text = recognizer.recognize_google(audio)\n",
    "    print(f\"Recognized text: {text}\")\n",
    "except sr.UnknownValueError:\n",
    "    print(\"Speech recognition could not understand the audio.\")\n",
    "except sr.RequestError as e:\n",
    "    print(f\"Could not request results from Google Web Speech API; {e}\")"
   ]
  },
  {
   "cell_type": "markdown",
   "id": "20ffc268",
   "metadata": {},
   "source": [
    "### Question 3: Integration of STT and TTS "
   ]
  },
  {
   "cell_type": "code",
   "execution_count": 16,
   "id": "f19939a3-27fa-4b8a-8b4f-6ec6252820e6",
   "metadata": {
    "tags": []
   },
   "outputs": [
    {
     "name": "stdout",
     "output_type": "stream",
     "text": [
      "Please say something....\n",
      "Recognized text: hello hello good evening\n"
     ]
    },
    {
     "data": {
      "text/html": [
       "\n",
       "                <audio  controls=\"controls\" autoplay=\"autoplay\">\n",
       "                    <source src=\"data:audio/mpeg;base64,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\" type=\"audio/mpeg\" />\n",
       "                    Your browser does not support the audio element.\n",
       "                </audio>\n",
       "              "
      ],
      "text/plain": [
       "<IPython.lib.display.Audio object>"
      ]
     },
     "metadata": {},
     "output_type": "display_data"
    }
   ],
   "source": [
    "from gtts import gTTS\n",
    "from IPython.display import Audio\n",
    "import speech_recognition as sr\n",
    "\n",
    "# STT Section: Capturing Audio from Microphone and Converting to Text\n",
    "recognizer = sr.Recognizer()\n",
    "\n",
    "with sr.Microphone() as source:\n",
    "    print(\"Please say something....\")\n",
    "    recognizer.adjust_for_ambient_noise(source)  # Adjust for ambient noise\n",
    "\n",
    "    # Capture audio from the microphone\n",
    "    audio = recognizer.listen(source)\n",
    "\n",
    "try:\n",
    "    text = recognizer.recognize_google(audio)\n",
    "    print(f\"Recognized text: {text}\")\n",
    "\n",
    "    # TTS section: Converts recognized text to audio and plays it back\n",
    "    tts = gTTS(text, lang='en')\n",
    "    tts.save('recognized_text.mp3')\n",
    "    sound_file = 'recognized_text.mp3'\n",
    "    display(Audio(sound_file, autoplay=True))  # Using IPython's display method to play audio\n",
    "\n",
    "except sr.UnknownValueError:\n",
    "    print(\"Speech recognition could not understand the audio.\")\n",
    "except sr.RequestError as e:\n",
    "    print(f\"Could not request results from Google Web Speech API; {e}\")"
   ]
  },
  {
   "cell_type": "markdown",
   "id": "9daf3aa7-f3ec-493d-90a1-5f7e46eb1883",
   "metadata": {},
   "source": [
    "### Question 4: Analysis and Documentation"
   ]
  },
  {
   "cell_type": "markdown",
   "id": "1b77a5cf-ece0-4127-b1f3-98817843f332",
   "metadata": {},
   "source": [
    "#### Challenges Encountered \n",
    "\n",
    "First and foremost, ambient noise often interfered with the clarity of captured audio, leading to potential inaccuracies in recognition. Fortunately, the .adjust_for_ambient_noise(source) method proved to be effective in minimizing this interference. Additionally, the chosen TTS library, gTTS, relies on Google Translate's text-to-speech API, Unable to recognize some dialects, high accuracy required for spoken language.In addition, we encountered a lot of compatibility issues during the installation of the library."
   ]
  },
  {
   "cell_type": "markdown",
   "id": "53aae517",
   "metadata": {},
   "source": [
    "#### Pros of Libraries\n",
    "\n",
    "The speech_recognition and gTTS libraries, chosen for STT and TTS respectively, bring forth various advantages. The STT library is versatile, capable of supporting a wide range of recognition engines, including but not limited to Google. Its API is notably user-friendly, making it suitable even for beginners. Moreover, when paired with Google's engine, its recognition accuracy is commendable for English and many other languages. On the TTS front, gTTS stands out for its high-quality generated speech, which sounds natural to the listener. It is also straightforward to use and can support multiple languages, primarily English but extending to others as well."
   ]
  },
  {
   "cell_type": "markdown",
   "id": "4f2de1a3",
   "metadata": {},
   "source": [
    "#### Cons of Libraries\n",
    "\n",
    "Despite their strengths, the chosen libraries are not without limitations. The STT library's dependency on the internet, especially when using the Google Web Speech API, can be a significant constraint in offline scenarios. Moreover, Google's API imposes rate limits on the number of requests over short periods. As for gTTS, similar to the STT library, it also requires an active internet connection. Furthermore, being anchored to Google Translate means that it comes with inherent limitations regarding the variety of voices and languages available."
   ]
  }
 ],
 "metadata": {
  "kernelspec": {
   "display_name": "Python 3 (ipykernel)",
   "language": "python",
   "name": "python3"
  },
  "language_info": {
   "codemirror_mode": {
    "name": "ipython",
    "version": 3
   },
   "file_extension": ".py",
   "mimetype": "text/x-python",
   "name": "python",
   "nbconvert_exporter": "python",
   "pygments_lexer": "ipython3",
   "version": "3.11.5"
  }
 },
 "nbformat": 4,
 "nbformat_minor": 5
}
